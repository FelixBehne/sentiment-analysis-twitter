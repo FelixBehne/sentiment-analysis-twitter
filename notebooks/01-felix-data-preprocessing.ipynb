{
 "cells": [
  {
   "cell_type": "code",
   "execution_count": 13,
   "metadata": {},
   "outputs": [],
   "source": [
    "from utils import basic_cleaner, normalize_tweets\n",
    "import pandas as pd\n"
   ]
  },
  {
   "cell_type": "code",
   "execution_count": 14,
   "metadata": {},
   "outputs": [],
   "source": [
    "raw_tweets = pd.read_csv(\n",
    "    \"../../data/01_raw/raw_tweets.csv\",\n",
    "    header=None,\n",
    "    names=[\"target\", \"id\", \"date\", \"query\", \"user\", \"text\"],\n",
    "    encoding=\"ISO-8859-1\",\n",
    ")\n",
    "intermediate_tweets = pd.read_csv(\n",
    "    \"../../data/02_intermediate/intermediate_tweets.csv\",\n",
    ")[:1000]"
   ]
  },
  {
   "cell_type": "code",
   "execution_count": 11,
   "metadata": {},
   "outputs": [
    {
     "data": {
      "text/plain": [
       "0      switchfoot Awww that's a bummer You shoulda go...\n",
       "1      is upset that he can't update his Facebook by ...\n",
       "2      Kenichan I dived many times for the ball Manag...\n",
       "3         my whole body feels itchy and like its on fire\n",
       "4      nationwideclass no it's not behaving at all i'...\n",
       "                             ...                        \n",
       "995    dkoenigs thanks man I'm so very grateful I fee...\n",
       "996    t_wolfe i miss u too i'm totally comin back th...\n",
       "997    sniffinglue oh I love it ps I'm sad we didn't ...\n",
       "998             And somehow I still end up in this place\n",
       "999               kisluvkis oh that is very sad poor boy\n",
       "Name: text, Length: 1000, dtype: object"
      ]
     },
     "execution_count": 11,
     "metadata": {},
     "output_type": "execute_result"
    }
   ],
   "source": [
    "intermediate_tweets[\"text\"].astype(str)"
   ]
  },
  {
   "cell_type": "code",
   "execution_count": 3,
   "metadata": {},
   "outputs": [
    {
     "data": {
      "text/html": [
       "<div>\n",
       "<style scoped>\n",
       "    .dataframe tbody tr th:only-of-type {\n",
       "        vertical-align: middle;\n",
       "    }\n",
       "\n",
       "    .dataframe tbody tr th {\n",
       "        vertical-align: top;\n",
       "    }\n",
       "\n",
       "    .dataframe thead th {\n",
       "        text-align: right;\n",
       "    }\n",
       "</style>\n",
       "<table border=\"1\" class=\"dataframe\">\n",
       "  <thead>\n",
       "    <tr style=\"text-align: right;\">\n",
       "      <th></th>\n",
       "      <th>target</th>\n",
       "      <th>id</th>\n",
       "      <th>date</th>\n",
       "      <th>query</th>\n",
       "      <th>user</th>\n",
       "      <th>text</th>\n",
       "    </tr>\n",
       "  </thead>\n",
       "  <tbody>\n",
       "    <tr>\n",
       "      <th>0</th>\n",
       "      <td>0</td>\n",
       "      <td>1467810369</td>\n",
       "      <td>Mon Apr 06 22:19:45 PDT 2009</td>\n",
       "      <td>NO_QUERY</td>\n",
       "      <td>_TheSpecialOne_</td>\n",
       "      <td>@switchfoot http://twitpic.com/2y1zl - Awww, t...</td>\n",
       "    </tr>\n",
       "    <tr>\n",
       "      <th>1</th>\n",
       "      <td>0</td>\n",
       "      <td>1467810672</td>\n",
       "      <td>Mon Apr 06 22:19:49 PDT 2009</td>\n",
       "      <td>NO_QUERY</td>\n",
       "      <td>scotthamilton</td>\n",
       "      <td>is upset that he can't update his Facebook by ...</td>\n",
       "    </tr>\n",
       "    <tr>\n",
       "      <th>2</th>\n",
       "      <td>0</td>\n",
       "      <td>1467810917</td>\n",
       "      <td>Mon Apr 06 22:19:53 PDT 2009</td>\n",
       "      <td>NO_QUERY</td>\n",
       "      <td>mattycus</td>\n",
       "      <td>@Kenichan I dived many times for the ball. Man...</td>\n",
       "    </tr>\n",
       "    <tr>\n",
       "      <th>3</th>\n",
       "      <td>0</td>\n",
       "      <td>1467811184</td>\n",
       "      <td>Mon Apr 06 22:19:57 PDT 2009</td>\n",
       "      <td>NO_QUERY</td>\n",
       "      <td>ElleCTF</td>\n",
       "      <td>my whole body feels itchy and like its on fire</td>\n",
       "    </tr>\n",
       "    <tr>\n",
       "      <th>4</th>\n",
       "      <td>0</td>\n",
       "      <td>1467811193</td>\n",
       "      <td>Mon Apr 06 22:19:57 PDT 2009</td>\n",
       "      <td>NO_QUERY</td>\n",
       "      <td>Karoli</td>\n",
       "      <td>@nationwideclass no, it's not behaving at all....</td>\n",
       "    </tr>\n",
       "  </tbody>\n",
       "</table>\n",
       "</div>"
      ],
      "text/plain": [
       "   target          id                          date     query  \\\n",
       "0       0  1467810369  Mon Apr 06 22:19:45 PDT 2009  NO_QUERY   \n",
       "1       0  1467810672  Mon Apr 06 22:19:49 PDT 2009  NO_QUERY   \n",
       "2       0  1467810917  Mon Apr 06 22:19:53 PDT 2009  NO_QUERY   \n",
       "3       0  1467811184  Mon Apr 06 22:19:57 PDT 2009  NO_QUERY   \n",
       "4       0  1467811193  Mon Apr 06 22:19:57 PDT 2009  NO_QUERY   \n",
       "\n",
       "              user                                               text  \n",
       "0  _TheSpecialOne_  @switchfoot http://twitpic.com/2y1zl - Awww, t...  \n",
       "1    scotthamilton  is upset that he can't update his Facebook by ...  \n",
       "2         mattycus  @Kenichan I dived many times for the ball. Man...  \n",
       "3          ElleCTF    my whole body feels itchy and like its on fire   \n",
       "4           Karoli  @nationwideclass no, it's not behaving at all....  "
      ]
     },
     "execution_count": 3,
     "metadata": {},
     "output_type": "execute_result"
    }
   ],
   "source": [
    "raw_tweets.head(5)"
   ]
  },
  {
   "cell_type": "code",
   "execution_count": 4,
   "metadata": {},
   "outputs": [],
   "source": [
    "# raw_tweets[\"text\"].map(lambda tweets: basic_cleaner(tweets))"
   ]
  },
  {
   "cell_type": "code",
   "execution_count": 12,
   "metadata": {},
   "outputs": [
    {
     "name": "stderr",
     "output_type": "stream",
     "text": [
      "\u001b[2m\u001b[36m(apply_list_of_funcs pid=14417)\u001b[0m [nltk_data] Downloading package wordnet to\n",
      "\u001b[2m\u001b[36m(apply_list_of_funcs pid=14417)\u001b[0m [nltk_data]     /Users/felixbehne/nltk_data...\n",
      "\u001b[2m\u001b[36m(apply_list_of_funcs pid=14417)\u001b[0m [nltk_data]   Package wordnet is already up-to-date!\n",
      "\u001b[2m\u001b[36m(apply_list_of_funcs pid=14417)\u001b[0m [nltk_data] Downloading package stopwords to\n",
      "\u001b[2m\u001b[36m(apply_list_of_funcs pid=14417)\u001b[0m [nltk_data]     /Users/felixbehne/nltk_data...\n",
      "\u001b[2m\u001b[36m(apply_list_of_funcs pid=14417)\u001b[0m [nltk_data]   Package stopwords is already up-to-date!\n",
      "\u001b[2m\u001b[36m(apply_list_of_funcs pid=14417)\u001b[0m [nltk_data] Downloading package punkt to\n",
      "\u001b[2m\u001b[36m(apply_list_of_funcs pid=14417)\u001b[0m [nltk_data]     /Users/felixbehne/nltk_data...\n",
      "\u001b[2m\u001b[36m(apply_list_of_funcs pid=14417)\u001b[0m [nltk_data]   Package punkt is already up-to-date!\n"
     ]
    }
   ],
   "source": [
    "tmp = intermediate_tweets[\"text\"].map(lambda tweet: normalize_tweets(tweet))"
   ]
  },
  {
   "cell_type": "code",
   "execution_count": 6,
   "metadata": {},
   "outputs": [
    {
     "name": "stderr",
     "output_type": "stream",
     "text": [
      "\u001b[2m\u001b[36m(apply_list_of_funcs pid=14422)\u001b[0m [nltk_data] Downloading package wordnet to\n",
      "\u001b[2m\u001b[36m(apply_list_of_funcs pid=14422)\u001b[0m [nltk_data]     /Users/felixbehne/nltk_data...\n",
      "\u001b[2m\u001b[36m(apply_list_of_funcs pid=14422)\u001b[0m [nltk_data]   Package wordnet is already up-to-date!\n",
      "\u001b[2m\u001b[36m(apply_list_of_funcs pid=14422)\u001b[0m [nltk_data] Downloading package stopwords to\n",
      "\u001b[2m\u001b[36m(apply_list_of_funcs pid=14422)\u001b[0m [nltk_data]     /Users/felixbehne/nltk_data...\n",
      "\u001b[2m\u001b[36m(apply_list_of_funcs pid=14422)\u001b[0m [nltk_data]   Package stopwords is already up-to-date!\n",
      "\u001b[2m\u001b[36m(apply_list_of_funcs pid=14422)\u001b[0m [nltk_data] Downloading package punkt to\n",
      "\u001b[2m\u001b[36m(apply_list_of_funcs pid=14422)\u001b[0m [nltk_data]     /Users/felixbehne/nltk_data...\n",
      "\u001b[2m\u001b[36m(apply_list_of_funcs pid=14422)\u001b[0m [nltk_data]   Package punkt is already up-to-date!\n"
     ]
    },
    {
     "data": {
      "text/plain": [
       "0      switchfoot aww that is a bummer you shoulda go...\n",
       "1      is upset that he can not update his facebook b...\n",
       "2      kenichan i dived many times for the ball manag...\n",
       "3         my whole body feels itchy and like its on fire\n",
       "4      nationwideclass no it is not behaving at all i...\n",
       "                             ...                        \n",
       "995    dkoenigs thanks man i am so very grateful i fe...\n",
       "996    t_wolfe i miss u too i am totally comin back t...\n",
       "997    sniffinglue oh i love it ps i am sad we did no...\n",
       "998             and somehow i still end up in this place\n",
       "999               kisluvkis oh that is very sad poor boy\n",
       "Name: text, Length: 1000, dtype: object"
      ]
     },
     "execution_count": 6,
     "metadata": {},
     "output_type": "execute_result"
    }
   ],
   "source": [
    "tmp"
   ]
  },
  {
   "cell_type": "code",
   "execution_count": null,
   "metadata": {},
   "outputs": [],
   "source": []
  }
 ],
 "metadata": {
  "interpreter": {
   "hash": "c3f30943140f51c5cc4967d1da6a8fecec155e6e1dd18f27a3dab00d4fb24dc4"
  },
  "kernelspec": {
   "display_name": "Python 3.8.12 64-bit ('nlp': conda)",
   "language": "python",
   "name": "python3"
  },
  "language_info": {
   "codemirror_mode": {
    "name": "ipython",
    "version": 3
   },
   "file_extension": ".py",
   "mimetype": "text/x-python",
   "name": "python",
   "nbconvert_exporter": "python",
   "pygments_lexer": "ipython3",
   "version": "3.8.12"
  },
  "orig_nbformat": 4
 },
 "nbformat": 4,
 "nbformat_minor": 2
}
